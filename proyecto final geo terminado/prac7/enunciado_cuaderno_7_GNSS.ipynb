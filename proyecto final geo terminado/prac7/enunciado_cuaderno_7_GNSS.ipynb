{
 "cells": [
  {
   "cell_type": "markdown",
   "id": "6084c3a5",
   "metadata": {},
   "source": [
    "Dr. Jesús Martí Gavilá. Departamento de Ingeniería Cartográfica, Geodesia y fotogrametría\n",
    "<font color=\"blue\" ><h1 align=center>PRÁCTICA 7</h1> <p> <h1 align=center> CURSO BÁSICO PYTHON: FICHERO GPX</h1></font>\n",
    "\n",
    "<a href=\"http://www.upv.es/titulaciones/GTI/indexc.html\"><img src = \"http://www.upv.es/imagenes/marcaUPVN1.png\" width =200 ></a>\n",
    "\n",
    "<h2 align=center>Grado Tecnologías Interactivas | Tecnologías de la Información Geográfica</h2>\n",
    "\n"
   ]
  },
  {
   "cell_type": "markdown",
   "id": "50e45167",
   "metadata": {},
   "source": [
    "# TAREA\n",
    "<div class=\"alert alert-block alert-info\" style=\"margin-top: 20px\">\n",
    "\n",
    "<b>Realizar un análisis de rendimiento a partir de un fichero GNSS con waypoints en formato GPX.</b>\n",
    "<p>\n",
    "    \n",
    "<h3>El resultado a obtener sera:</h3>  <p> \n",
    "   <li>\n",
    "       <a>Un Dataframe en formato HTML con los siguientes campos:<p><p>\n",
    "'Punto','Latitud','Longitud', 'Cota (m)', 'Hora', 'Distancia (m)','Dist_O (m)', 'Pendiente (%)', 'Velocidad (km/h)','Orientación (º)','Tiempo'</a><p>\n",
    "   </li>\n",
    "        \n",
    "   <li>\n",
    "       <a>Gráfico con los valores de distancia en el eje X y valores de pendiente y velocidad en la Y</a>\n",
    "   </li>\n",
    "</div>"
   ]
  },
  {
   "cell_type": "markdown",
   "id": "e0942a8b",
   "metadata": {},
   "source": [
    "# Estructura GPX e importación de librerías"
   ]
  },
  {
   "cell_type": "code",
   "execution_count": 2,
   "id": "a160db7d",
   "metadata": {},
   "outputs": [],
   "source": [
    "\n",
    "\"\"\"\n",
    "Creado Viernes 14 Oct 18:22:39 2022, @autores: \n",
    "FORMATO EJEMPLO GPX\n",
    "<wpt lat=\"38.968484\" lon=\"-0.148688\">\n",
    "\t<ele>-6.847729</ele>\n",
    "\t<time>2020-10-06T15:42:19Z</time>\n",
    "\t<name>001</name>\n",
    "\t<sym>Flag, Blue</sym>\n",
    "</wpt>\n",
    "\"\"\"\n",
    "import pandas as pd\n",
    "import xml.etree.cElementTree as et\n",
    "import os\n",
    "import math as m\n",
    "from datetime import datetime\n",
    "import matplotlib.pyplot as plt"
   ]
  },
  {
   "cell_type": "markdown",
   "id": "5c812b77",
   "metadata": {},
   "source": [
    "# Fichero de entrada y Dataframe de salida"
   ]
  },
  {
   "cell_type": "code",
   "execution_count": 3,
   "id": "fc46c20a",
   "metadata": {},
   "outputs": [
    {
     "name": "stdout",
     "output_type": "stream",
     "text": [
      "Introduce el nombre del archivo GPX (sin extensión): Waypoints\n"
     ]
    }
   ],
   "source": [
    "# Introducción de datos. Solicitar al usuario el nombre del fichero sin extensión.\n",
    "path = os.getcwd();\n",
    "\n",
    "nombregpx = input(\"Introduce el nombre del archivo GPX (sin extensión): \");\n",
    "\n",
    "pathgpx = path + \"/\" + nombregpx + \".gpx\";\n",
    "\n",
    "# Este nombre también se utilizará para crear el fichero html\n",
    "fichero_html = path + \"/\" + nombregpx + \".html\";"
   ]
  },
  {
   "cell_type": "code",
   "execution_count": 5,
   "id": "313a36d2",
   "metadata": {},
   "outputs": [],
   "source": [
    "# Accedemos al XML y creamos un Dataframe con los campos arriba indicados\n",
    "\n",
    "docxml = et.parse(pathgpx)\n",
    "raiz = docxml.getroot()\n",
    "puntos = len(raiz)-1\n",
    "columnas = ['Punto','Latitud','Longitud', 'Cota (m)', 'Hora', 'Distancia (m)',\n",
    "                           'Dist_O (m)', 'Pendiente (%)', 'Velocidad (km/h)','Orientación (º)','Tiempo']\n",
    "df = pd.DataFrame(columns=columnas)"
   ]
  },
  {
   "cell_type": "markdown",
   "id": "4a45ca4f",
   "metadata": {},
   "source": [
    "# Funciones de cálculo"
   ]
  },
  {
   "cell_type": "code",
   "execution_count": 6,
   "id": "73f1afd1",
   "metadata": {},
   "outputs": [],
   "source": [
    "def calculard(angulo_a, angulo_b, landa):\n",
    "    return m.acos((m.sin(angulo_a)*m.sin(angulo_b))+(m.cos(angulo_a)*m.cos(angulo_b)*m.cos(landa)));\n",
    "    \n",
    "# Cálculo de la distancia parcial y al origen\n",
    "def distancia_parcial(d):\n",
    "    return d*111.11;"
   ]
  },
  {
   "cell_type": "code",
   "execution_count": 20,
   "id": "911b9b39",
   "metadata": {},
   "outputs": [],
   "source": [
    "# Cálculo del acimut. Verificar la posición del punto B\n",
    "def acimut(angulo_a, angulo_b, d):\n",
    "    return m.acos((m.sin(angulo_b)-m.sin(angulo_a)*m.cos(d))/(m.cos(angulo_a)*m.sin(d)));"
   ]
  },
  {
   "cell_type": "code",
   "execution_count": 8,
   "id": "1402f2e8",
   "metadata": {},
   "outputs": [],
   "source": [
    "# Cálculo de la pendiente. En %\n",
    "def pendiente(h, dr):\n",
    "    return (h/dr)*100;"
   ]
  },
  {
   "cell_type": "code",
   "execution_count": 9,
   "id": "2bb324c1",
   "metadata": {},
   "outputs": [],
   "source": [
    "# Cálculo de la velocidad\n",
    "def velocidad(d, t):\n",
    "    return d/t;"
   ]
  },
  {
   "cell_type": "markdown",
   "id": "bd19bdd1",
   "metadata": {},
   "source": [
    "# Obtención de los datos de entrada y llamada a funciones"
   ]
  },
  {
   "cell_type": "code",
   "execution_count": 22,
   "id": "4dbdafbf",
   "metadata": {},
   "outputs": [],
   "source": [
    "# Datos del punto A\n",
    "wptA = raiz[1];\n",
    "puntoA = {'lat':m.degrees(float(wptA.get(\"lat\"))), 'lon':m.degrees(float(wptA.get(\"lon\"))), 'ele':float(wptA[0].text), 'time':wptA[1].text, 'name':wptA[2].text, 'sym':wptA[3].text};\n",
    "tiempo_A = datetime.strptime(puntoA['time'], '%Y-%m-%dT%H:%M:%SZ');\n",
    "# tiempo_A_segundos = tiempo_A.total_seconds();\n",
    "# print(tiempo_A_segundos);"
   ]
  },
  {
   "cell_type": "code",
   "execution_count": 23,
   "id": "e9205701",
   "metadata": {},
   "outputs": [
    {
     "name": "stdout",
     "output_type": "stream",
     "text": [
      "156.0\n"
     ]
    }
   ],
   "source": [
    "# Datos del punto B\n",
    "wptB = raiz[2];\n",
    "puntoB = {'lat':m.degrees(float(wptB.get(\"lat\"))), 'lon':m.degrees(float(wptB.get(\"lon\"))), 'ele':float(wptB[0].text), 'time':wptB[1].text, 'name':wptB[2].text, 'sym':wptB[3].text};\n",
    "tiempo_B = datetime.strptime(puntoB['time'], '%Y-%m-%dT%H:%M:%SZ');\n",
    "diferencia=(tiempo_B-tiempo_A).total_seconds()\n",
    "print (diferencia)"
   ]
  },
  {
   "cell_type": "code",
   "execution_count": 30,
   "id": "31329ef0",
   "metadata": {},
   "outputs": [
    {
     "name": "stdout",
     "output_type": "stream",
     "text": [
      "{'d': 0.8850454522704363, 'a': 2.356771512558348, 'dp': 98.33740020176818, 'v': 0.6303679500113345}\n"
     ]
    }
   ],
   "source": [
    "# Llamar a las diferentes funciones y añadir los datos resultantes al Dataframe\n",
    "contador = 0;\n",
    "lista = []\n",
    "for punto in raiz:\n",
    "    if contador==0:\n",
    "        contador+=1;\n",
    "    else:\n",
    "        wptA = punto;\n",
    "        lista.append({'lat':m.degrees(float(wptA.get(\"lat\"))), 'lon':m.degrees(float(wptA.get(\"lon\"))), 'ele':float(wptA[0].text), 'time':wptA[1].text, 'name':wptA[2].text, 'sym':wptA[3].text});\n",
    "        contador+=1;\n",
    "\n",
    "def calculos_entre_dos_puntos(punto1, punto2):\n",
    "    d = calculard(punto1['lat'], punto2['lat'], (punto2['lon']+punto1['lon']));\n",
    "    a = acimut(punto1['lat'], punto2['lat'], d);\n",
    "    dp = distancia_parcial(d);\n",
    "    v = velocidad(dp, diferencia);\n",
    "    return {'d': d, 'a': a, 'dp': dp, 'v': v};\n",
    "\n",
    "contador = 0;\n",
    "lista = []\n",
    "for punto in raiz:\n",
    "    if contador==0:\n",
    "        contador+=1;\n",
    "    else:\n",
    "        wptA = punto;\n",
    "        lista.append({'lat':m.degrees(float(wptA.get(\"lat\"))), 'lon':m.degrees(float(wptA.get(\"lon\"))), 'ele':float(wptA[0].text), 'time':wptA[1].text, 'name':wptA[2].text, 'sym':wptA[3].text});\n",
    "        contador+=1;\n",
    "\n",
    "print(calculos_entre_dos_puntos(puntoA, puntoB));"
   ]
  },
  {
   "cell_type": "markdown",
   "id": "7581b6a5",
   "metadata": {},
   "source": [
    "# Impresión y exportación de los obtenidos"
   ]
  },
  {
   "cell_type": "code",
   "execution_count": null,
   "id": "8f376a38",
   "metadata": {},
   "outputs": [],
   "source": [
    "# Imprimir los valores en formato HTML"
   ]
  },
  {
   "cell_type": "code",
   "execution_count": null,
   "id": "bf732fb3",
   "metadata": {},
   "outputs": [],
   "source": [
    "# Plotear el gráfico de rendimiento y guardar en JPG. Puedes ver ayuda en internet matplotlib.plot \n",
    "# para indicar leyendas, titulo, etiquetas del eje X\n",
    "\n",
    "# Empieza con para plotear 2 ejes\n",
    "fig, ax = plt.subplots()\n",
    "plt.plot(df[\"Dist_O (m)\"], df['Pendiente (%)'], marker = \"o\", label=\"Pendiente %\")\n",
    "\n",
    "\n"
   ]
  },
  {
   "cell_type": "markdown",
   "id": "67e312d2",
   "metadata": {},
   "source": [
    "# Mapa interactivo con Folium"
   ]
  },
  {
   "cell_type": "code",
   "execution_count": null,
   "id": "88415635",
   "metadata": {},
   "outputs": [],
   "source": [
    "df.loc[:,['Latitud','Longitud']].to_csv('coordenadas.csv',header=True, index=False) #obtienes los valores de latitud y longitud y creas un fichero de coordenadas\n",
    "lista_geo = pd.read_csv('coordenadas.csv').to_numpy().tolist()\n",
    "\n",
    "import folium\n",
    "from folium import plugins\n",
    "m = folium.Map()\n",
    "folium.plugins.AntPath(locations = lista_geo, popup = 'Ruta 20/11/2023', reverse=\"True\", dash_array=[10, 20], color='red', pulse_color = 'blue').add_to(m)\n",
    "m.fit_bounds(m.get_bounds())\n",
    "m\n"
   ]
  },
  {
   "cell_type": "code",
   "execution_count": null,
   "id": "520400aa",
   "metadata": {},
   "outputs": [],
   "source": []
  }
 ],
 "metadata": {
  "kernelspec": {
   "display_name": "Python 3 (ipykernel)",
   "language": "python",
   "name": "python3"
  },
  "language_info": {
   "codemirror_mode": {
    "name": "ipython",
    "version": 3
   },
   "file_extension": ".py",
   "mimetype": "text/x-python",
   "name": "python",
   "nbconvert_exporter": "python",
   "pygments_lexer": "ipython3",
   "version": "3.10.13"
  }
 },
 "nbformat": 4,
 "nbformat_minor": 5
}
